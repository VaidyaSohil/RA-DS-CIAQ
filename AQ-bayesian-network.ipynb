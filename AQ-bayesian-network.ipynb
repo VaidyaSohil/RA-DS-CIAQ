{
 "cells": [
  {
   "cell_type": "code",
   "execution_count": 1,
   "id": "operating-corporation",
   "metadata": {},
   "outputs": [
    {
     "name": "stdout",
     "output_type": "stream",
     "text": [
      "Defaulting to user installation because normal site-packages is not writeable\n",
      "Collecting pgmpy\n",
      "  Downloading pgmpy-0.1.13-py3-none-any.whl (324 kB)\n",
      "Requirement already satisfied: scipy in c:\\users\\sohil\\appdata\\roaming\\python\\python39\\site-packages (from pgmpy) (1.6.1)\n",
      "Requirement already satisfied: numpy in c:\\users\\sohil\\appdata\\roaming\\python\\python39\\site-packages (from pgmpy) (1.20.1)\n",
      "Collecting joblib\n",
      "  Downloading joblib-1.0.1-py3-none-any.whl (303 kB)\n",
      "Collecting torch\n",
      "  Downloading torch-1.8.0-cp39-cp39-win_amd64.whl (190.5 MB)\n",
      "Collecting tqdm\n",
      "  Downloading tqdm-4.58.0-py2.py3-none-any.whl (73 kB)\n",
      "Requirement already satisfied: pyparsing in c:\\users\\sohil\\appdata\\roaming\\python\\python39\\site-packages (from pgmpy) (2.4.7)\n",
      "Collecting networkx\n",
      "  Downloading networkx-2.5-py3-none-any.whl (1.6 MB)\n",
      "Collecting statsmodels\n",
      "  Downloading statsmodels-0.12.2-cp39-none-win_amd64.whl (9.4 MB)\n",
      "Collecting scikit-learn\n",
      "  Downloading scikit_learn-0.24.1-cp39-cp39-win_amd64.whl (6.9 MB)\n",
      "Requirement already satisfied: pandas in c:\\users\\sohil\\appdata\\roaming\\python\\python39\\site-packages (from pgmpy) (1.2.2)\n",
      "Requirement already satisfied: decorator>=4.3.0 in c:\\users\\sohil\\appdata\\roaming\\python\\python39\\site-packages (from networkx->pgmpy) (4.4.2)\n",
      "Requirement already satisfied: python-dateutil>=2.7.3 in c:\\users\\sohil\\appdata\\roaming\\python\\python39\\site-packages (from pandas->pgmpy) (2.8.1)\n",
      "Requirement already satisfied: pytz>=2017.3 in c:\\users\\sohil\\appdata\\roaming\\python\\python39\\site-packages (from pandas->pgmpy) (2021.1)\n",
      "Requirement already satisfied: six>=1.5 in c:\\users\\sohil\\appdata\\roaming\\python\\python39\\site-packages (from python-dateutil>=2.7.3->pandas->pgmpy) (1.15.0)\n",
      "Collecting threadpoolctl>=2.0.0\n",
      "  Downloading threadpoolctl-2.1.0-py3-none-any.whl (12 kB)\n",
      "Collecting patsy>=0.5\n",
      "  Downloading patsy-0.5.1-py2.py3-none-any.whl (231 kB)\n",
      "Collecting typing-extensions\n",
      "  Downloading typing_extensions-3.7.4.3-py3-none-any.whl (22 kB)\n",
      "Installing collected packages: typing-extensions, threadpoolctl, patsy, joblib, tqdm, torch, statsmodels, scikit-learn, networkx, pgmpy\n",
      "Successfully installed joblib-1.0.1 networkx-2.5 patsy-0.5.1 pgmpy-0.1.13 scikit-learn-0.24.1 statsmodels-0.12.2 threadpoolctl-2.1.0 torch-1.8.0 tqdm-4.58.0 typing-extensions-3.7.4.3\n"
     ]
    }
   ],
   "source": [
    "!pip install pgmpy"
   ]
  },
  {
   "cell_type": "code",
   "execution_count": 5,
   "id": "united-moses",
   "metadata": {},
   "outputs": [],
   "source": [
    "import pandas as pd\n",
    "from pgmpy.models import BayesianModel\n",
    "from urllib.request import urlopen"
   ]
  },
  {
   "cell_type": "code",
   "execution_count": 6,
   "id": "considered-train",
   "metadata": {},
   "outputs": [],
   "source": [
    "names = \"A,B,C,D,E,F,G,H,I,J,K,L,M,RESULT\"\n",
    "names = names.split(\",\")"
   ]
  },
  {
   "cell_type": "code",
   "execution_count": 7,
   "id": "devoted-auditor",
   "metadata": {},
   "outputs": [
    {
     "data": {
      "text/html": [
       "<div>\n",
       "<style scoped>\n",
       "    .dataframe tbody tr th:only-of-type {\n",
       "        vertical-align: middle;\n",
       "    }\n",
       "\n",
       "    .dataframe tbody tr th {\n",
       "        vertical-align: top;\n",
       "    }\n",
       "\n",
       "    .dataframe thead th {\n",
       "        text-align: right;\n",
       "    }\n",
       "</style>\n",
       "<table border=\"1\" class=\"dataframe\">\n",
       "  <thead>\n",
       "    <tr style=\"text-align: right;\">\n",
       "      <th></th>\n",
       "      <th>A</th>\n",
       "      <th>B</th>\n",
       "      <th>C</th>\n",
       "      <th>D</th>\n",
       "      <th>E</th>\n",
       "      <th>F</th>\n",
       "      <th>G</th>\n",
       "      <th>H</th>\n",
       "      <th>I</th>\n",
       "      <th>J</th>\n",
       "      <th>K</th>\n",
       "      <th>L</th>\n",
       "      <th>M</th>\n",
       "      <th>RESULT</th>\n",
       "    </tr>\n",
       "  </thead>\n",
       "  <tbody>\n",
       "    <tr>\n",
       "      <th>0</th>\n",
       "      <td>63.0</td>\n",
       "      <td>1.0</td>\n",
       "      <td>1.0</td>\n",
       "      <td>145.0</td>\n",
       "      <td>233.0</td>\n",
       "      <td>1.0</td>\n",
       "      <td>2.0</td>\n",
       "      <td>150.0</td>\n",
       "      <td>0.0</td>\n",
       "      <td>2.3</td>\n",
       "      <td>3.0</td>\n",
       "      <td>0.0</td>\n",
       "      <td>6.0</td>\n",
       "      <td>0</td>\n",
       "    </tr>\n",
       "    <tr>\n",
       "      <th>1</th>\n",
       "      <td>67.0</td>\n",
       "      <td>1.0</td>\n",
       "      <td>4.0</td>\n",
       "      <td>160.0</td>\n",
       "      <td>286.0</td>\n",
       "      <td>0.0</td>\n",
       "      <td>2.0</td>\n",
       "      <td>108.0</td>\n",
       "      <td>1.0</td>\n",
       "      <td>1.5</td>\n",
       "      <td>2.0</td>\n",
       "      <td>3.0</td>\n",
       "      <td>3.0</td>\n",
       "      <td>2</td>\n",
       "    </tr>\n",
       "    <tr>\n",
       "      <th>2</th>\n",
       "      <td>67.0</td>\n",
       "      <td>1.0</td>\n",
       "      <td>4.0</td>\n",
       "      <td>120.0</td>\n",
       "      <td>229.0</td>\n",
       "      <td>0.0</td>\n",
       "      <td>2.0</td>\n",
       "      <td>129.0</td>\n",
       "      <td>1.0</td>\n",
       "      <td>2.6</td>\n",
       "      <td>2.0</td>\n",
       "      <td>2.0</td>\n",
       "      <td>7.0</td>\n",
       "      <td>1</td>\n",
       "    </tr>\n",
       "    <tr>\n",
       "      <th>3</th>\n",
       "      <td>37.0</td>\n",
       "      <td>1.0</td>\n",
       "      <td>3.0</td>\n",
       "      <td>130.0</td>\n",
       "      <td>250.0</td>\n",
       "      <td>0.0</td>\n",
       "      <td>0.0</td>\n",
       "      <td>187.0</td>\n",
       "      <td>0.0</td>\n",
       "      <td>3.5</td>\n",
       "      <td>3.0</td>\n",
       "      <td>0.0</td>\n",
       "      <td>3.0</td>\n",
       "      <td>0</td>\n",
       "    </tr>\n",
       "    <tr>\n",
       "      <th>4</th>\n",
       "      <td>41.0</td>\n",
       "      <td>0.0</td>\n",
       "      <td>2.0</td>\n",
       "      <td>130.0</td>\n",
       "      <td>204.0</td>\n",
       "      <td>0.0</td>\n",
       "      <td>2.0</td>\n",
       "      <td>172.0</td>\n",
       "      <td>0.0</td>\n",
       "      <td>1.4</td>\n",
       "      <td>1.0</td>\n",
       "      <td>0.0</td>\n",
       "      <td>3.0</td>\n",
       "      <td>0</td>\n",
       "    </tr>\n",
       "  </tbody>\n",
       "</table>\n",
       "</div>"
      ],
      "text/plain": [
       "      A    B    C      D      E    F    G      H    I    J    K    L    M  \\\n",
       "0  63.0  1.0  1.0  145.0  233.0  1.0  2.0  150.0  0.0  2.3  3.0  0.0  6.0   \n",
       "1  67.0  1.0  4.0  160.0  286.0  0.0  2.0  108.0  1.0  1.5  2.0  3.0  3.0   \n",
       "2  67.0  1.0  4.0  120.0  229.0  0.0  2.0  129.0  1.0  2.6  2.0  2.0  7.0   \n",
       "3  37.0  1.0  3.0  130.0  250.0  0.0  0.0  187.0  0.0  3.5  3.0  0.0  3.0   \n",
       "4  41.0  0.0  2.0  130.0  204.0  0.0  2.0  172.0  0.0  1.4  1.0  0.0  3.0   \n",
       "\n",
       "   RESULT  \n",
       "0       0  \n",
       "1       2  \n",
       "2       1  \n",
       "3       0  \n",
       "4       0  "
      ]
     },
     "execution_count": 7,
     "metadata": {},
     "output_type": "execute_result"
    }
   ],
   "source": [
    "data = pd.read_csv(urlopen(\"http://bit.do/heart-disease\"), names=names)\n",
    "data.head()"
   ]
  },
  {
   "cell_type": "code",
   "execution_count": 8,
   "id": "powerful-split",
   "metadata": {},
   "outputs": [],
   "source": [
    "model = BayesianModel([(\"A\",\"B\"),(\"B\",\"C\"),(\"C\",\"RESULT\")])\n",
    "model.fit(data)"
   ]
  },
  {
   "cell_type": "code",
   "execution_count": 20,
   "id": "traditional-teacher",
   "metadata": {},
   "outputs": [
    {
     "name": "stderr",
     "output_type": "stream",
     "text": [
      "C:\\Users\\Sohil\\AppData\\Roaming\\Python\\Python39\\site-packages\\pgmpy\\factors\\discrete\\DiscreteFactor.py:518: UserWarning: Found unknown state name. Trying to switch to using all state names as state numbers\n",
      "  warn(\n",
      "\n",
      "  0%|                                                                                            | 0/2 [00:00<?, ?it/s]\u001b[A\n",
      "Finding Elimination Order: :   0%|                                                               | 0/2 [00:00<?, ?it/s]\u001b[A\n",
      "\n",
      "  0%|                                                                                            | 0/2 [00:00<?, ?it/s]\u001b[A\u001b[A\n",
      "\n",
      "Eliminating: C:   0%|                                                                            | 0/2 [00:00<?, ?it/s]\u001b[A\u001b[A\n",
      "\n",
      "Eliminating: B: 100%|███████████████████████████████████████████████████████████████████| 2/2 [00:00<00:00, 666.29it/s]\u001b[A\u001b[A\n"
     ]
    }
   ],
   "source": [
    "from pgmpy.inference import VariableElimination\n",
    "infer = VariableElimination(model)\n",
    "q=infer.query(variables=[\"RESULT\"], evidence={\"A\":22})"
   ]
  },
  {
   "cell_type": "code",
   "execution_count": 25,
   "id": "existing-redhead",
   "metadata": {},
   "outputs": [
    {
     "name": "stdout",
     "output_type": "stream",
     "text": [
      "+-----------+---------------+\n",
      "| RESULT    |   phi(RESULT) |\n",
      "+===========+===============+\n",
      "| RESULT(0) |        0.5387 |\n",
      "+-----------+---------------+\n",
      "| RESULT(1) |        0.1824 |\n",
      "+-----------+---------------+\n",
      "| RESULT(2) |        0.1196 |\n",
      "+-----------+---------------+\n",
      "| RESULT(3) |        0.1161 |\n",
      "+-----------+---------------+\n",
      "| RESULT(4) |        0.0433 |\n",
      "+-----------+---------------+\n"
     ]
    }
   ],
   "source": [
    "print(q)"
   ]
  },
  {
   "cell_type": "code",
   "execution_count": 26,
   "id": "broke-hebrew",
   "metadata": {},
   "outputs": [],
   "source": [
    "from pgmpy.factors.discrete import TabularCPD\n",
    "from pgmpy.inference import VariableElimination\n",
    "import numpy as np"
   ]
  },
  {
   "cell_type": "code",
   "execution_count": 27,
   "id": "particular-lemon",
   "metadata": {},
   "outputs": [],
   "source": [
    "bayesNet = BayesianModel()\n",
    "bayesNet.add_node(\"M\")\n",
    "bayesNet.add_node(\"U\")\n",
    "bayesNet.add_node(\"R\")\n",
    "bayesNet.add_node(\"B\")\n",
    "bayesNet.add_node(\"S\")\n",
    "\n",
    "bayesNet.add_edge(\"M\", \"R\")\n",
    "bayesNet.add_edge(\"U\", \"R\")\n",
    "bayesNet.add_edge(\"B\", \"R\")\n",
    "bayesNet.add_edge(\"B\", \"S\")\n",
    "bayesNet.add_edge(\"R\", \"S\")"
   ]
  },
  {
   "cell_type": "code",
   "execution_count": 28,
   "id": "complex-nirvana",
   "metadata": {},
   "outputs": [
    {
     "name": "stderr",
     "output_type": "stream",
     "text": [
      "Finding Elimination Order: : 100%|█████████████████████████████████████████████████████| 2/2 [37:37<00:00, 1128.90s/it]\n"
     ]
    }
   ],
   "source": [
    "cpd_A = TabularCPD('M', 2, values=[[.95], [.05]])\n",
    "cpd_U = TabularCPD('U', 2, values=[[.85], [.15]])\n",
    "cpd_H = TabularCPD('B', 2, values=[[.90], [.10]])\n",
    "\n",
    "cpd_S = TabularCPD('S', 2, values=[[0.98, .88, .95, .6], [.02, .12, .05, .40]],\n",
    "                   evidence=['R', 'B'], evidence_card=[2, 2])\n",
    "\n",
    "cpd_R = TabularCPD('R', 2,\n",
    "                   values=[[0.96, .86, .94, .82, .24, .15, .10, .05], [.04, .14, .06, .18, .76, .85, .90, .95]],\n",
    "                   evidence=['M', 'B', 'U'], evidence_card=[2, 2,2])\n",
    "bayesNet.add_cpds(cpd_A, cpd_U, cpd_H, cpd_S, cpd_R)"
   ]
  },
  {
   "cell_type": "code",
   "execution_count": 29,
   "id": "senior-catholic",
   "metadata": {},
   "outputs": [
    {
     "name": "stdout",
     "output_type": "stream",
     "text": [
      "Model is correct.\n"
     ]
    }
   ],
   "source": [
    "bayesNet.check_model()\n",
    "print(\"Model is correct.\")"
   ]
  },
  {
   "cell_type": "code",
   "execution_count": 30,
   "id": "advance-triumph",
   "metadata": {},
   "outputs": [],
   "source": [
    "solver = VariableElimination(bayesNet)"
   ]
  },
  {
   "cell_type": "code",
   "execution_count": 37,
   "id": "suspected-significance",
   "metadata": {},
   "outputs": [
    {
     "name": "stderr",
     "output_type": "stream",
     "text": [
      "\n",
      "\n",
      "\n",
      "  0%|                                                                                            | 0/4 [00:00<?, ?it/s]\u001b[A\u001b[A\u001b[A\n",
      "\n",
      "\n",
      "Finding Elimination Order: :   0%|                                                               | 0/4 [00:00<?, ?it/s]\u001b[A\u001b[A\u001b[A\n",
      "\n",
      "\n",
      "\n",
      "  0%|                                                                                            | 0/4 [00:00<?, ?it/s]\u001b[A\u001b[A\u001b[A\u001b[A\n",
      "\n",
      "\n",
      "\n",
      "Eliminating: M:   0%|                                                                            | 0/4 [00:00<?, ?it/s]\u001b[A\u001b[A\u001b[A\u001b[A\n",
      "\n",
      "\n",
      "\n",
      "Eliminating: S:   0%|                                                                            | 0/4 [00:00<?, ?it/s]\u001b[A\u001b[A\u001b[A\u001b[A\n",
      "\n",
      "\n",
      "\n",
      "Eliminating: U:   0%|                                                                            | 0/4 [00:00<?, ?it/s]\u001b[A\u001b[A\u001b[A\u001b[A\n",
      "\n",
      "\n",
      "\n",
      "Eliminating: B: 100%|███████████████████████████████████████████████████████████████████| 4/4 [00:00<00:00, 533.13it/s]\u001b[A\u001b[A\u001b[A\u001b[A"
     ]
    },
    {
     "name": "stdout",
     "output_type": "stream",
     "text": [
      "RESULT: 0.09378000000000002\n"
     ]
    },
    {
     "name": "stderr",
     "output_type": "stream",
     "text": [
      "\n"
     ]
    }
   ],
   "source": [
    "result = solver.query(variables=['R'])\n",
    "print(\"RESULT:\", result.values[1])"
   ]
  },
  {
   "cell_type": "code",
   "execution_count": 38,
   "id": "early-mills",
   "metadata": {},
   "outputs": [
    {
     "data": {
      "text/plain": [
       "(M _|_ U, B)\n",
       "(M _|_ B | U)\n",
       "(M _|_ U | B)\n",
       "(M _|_ S | R, B)\n",
       "(M _|_ S | R, U, B)\n",
       "(U _|_ M, B)\n",
       "(U _|_ B | M)\n",
       "(U _|_ M | B)\n",
       "(U _|_ S | R, B)\n",
       "(U _|_ S | M, R, B)\n",
       "(B _|_ M, U)\n",
       "(B _|_ U | M)\n",
       "(B _|_ M | U)\n",
       "(S _|_ M, U | R, B)\n",
       "(S _|_ U | M, R, B)\n",
       "(S _|_ M | R, U, B)"
      ]
     },
     "execution_count": 38,
     "metadata": {},
     "output_type": "execute_result"
    }
   ],
   "source": [
    "bayesNet.get_independencies()"
   ]
  },
  {
   "cell_type": "code",
   "execution_count": null,
   "id": "vocal-spirit",
   "metadata": {},
   "outputs": [],
   "source": []
  }
 ],
 "metadata": {
  "kernelspec": {
   "display_name": "Python 3",
   "language": "python",
   "name": "python3"
  },
  "language_info": {
   "codemirror_mode": {
    "name": "ipython",
    "version": 3
   },
   "file_extension": ".py",
   "mimetype": "text/x-python",
   "name": "python",
   "nbconvert_exporter": "python",
   "pygments_lexer": "ipython3",
   "version": "3.9.2"
  }
 },
 "nbformat": 4,
 "nbformat_minor": 5
}
