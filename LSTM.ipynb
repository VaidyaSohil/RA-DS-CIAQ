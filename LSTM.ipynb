{
 "cells": [
  {
   "cell_type": "code",
   "execution_count": null,
   "id": "adequate-transparency",
   "metadata": {},
   "outputs": [],
   "source": [
    "!pip install --upgrade pip\n",
    "!pip install tensorflow\n",
    "\n",
    "import numpy as np\n",
    "import matplotlib.pyplot as plt\n",
    "import pandas as pd\n",
    "from keras.models import Sequential\n",
    "from keras.layers import LSTM, Dense, Dropout, Bidirectional"
   ]
  },
  {
   "cell_type": "code",
   "execution_count": null,
   "id": "polish-accuracy",
   "metadata": {},
   "outputs": [],
   "source": [
    "df = pd.read_csv('X:\\RA_AirQuality\\combined_final_dataset.csv', index_col='DateTime')"
   ]
  },
  {
   "cell_type": "code",
   "execution_count": null,
   "id": "reverse-stuart",
   "metadata": {},
   "outputs": [],
   "source": [
    "train_split= 0.9\n",
    "split_idx = int(len(df) * 0.9)\n",
    "training_set = df[:split_idx].values\n",
    "test_set = df[split_idx:].values"
   ]
  },
  {
   "cell_type": "code",
   "execution_count": null,
   "id": "elementary-catch",
   "metadata": {},
   "outputs": [],
   "source": [
    "# 5-day prediction using 30 days data\n",
    "x_train = []\n",
    "y_train = []\n",
    "n_future = 5 #Next 5 days rainfall forecast\n",
    "n_past = 30 #Past 30 days\n",
    "for i in range(0, len(training_set) - n_past - n_future + 1):\n",
    "    x_train.append(training_set[i : i + n_past, 0])\n",
    "    y_train.append(training_set[i + n_past : i + n_past + n_future, 0])"
   ]
  },
  {
   "cell_type": "code",
   "execution_count": null,
   "id": "russian-evening",
   "metadata": {},
   "outputs": [],
   "source": [
    "x_train , y_train = np.array(x_train), np.array(y_train)\n",
    "x_train = np.reshape(x_train, (x_train.shape[0] , x_train.shape[1], 1))"
   ]
  },
  {
   "cell_type": "code",
   "execution_count": null,
   "id": "becoming-spank",
   "metadata": {},
   "outputs": [],
   "source": [
    "EPOCHS = 500\n",
    "BATCH_SIZE = 32\n",
    "\n",
    "regressor = Sequential()\n",
    "regressor.add(Bidirectional(LSTM(units=30, return_sequences=True, input_shape = (x_train.shape[1], 1))))\n",
    "regressor.add(Dropout(0.2))\n",
    "regressor.add(LSTM(units= 30, return_sequences=True))\n",
    "regressor.add(Dropout(0.2))\n",
    "regressor.add(LSTM(units= 30, return_sequences=True))\n",
    "regressor.add(Dropout(0.2))\n",
    "regressor.add(LSTM(units= 30))\n",
    "regressor.add(Dropout(0.2))\n",
    "regressor.add(Dense(units = n_future, activation=’relu’))"
   ]
  },
  {
   "cell_type": "code",
   "execution_count": null,
   "id": "driving-wheat",
   "metadata": {},
   "outputs": [],
   "source": [
    "regressor.compile(optimizer=’adam’, loss=’mean_squared_error’, metrics=[‘acc’])\n",
    "regressor.fit(x_train, y_train, epochs=EPOCHS, batch_size=BATCH_SIZE)"
   ]
  }
 ],
 "metadata": {
  "kernelspec": {
   "display_name": "Python 3",
   "language": "python",
   "name": "python3"
  },
  "language_info": {
   "codemirror_mode": {
    "name": "ipython",
    "version": 3
   },
   "file_extension": ".py",
   "mimetype": "text/x-python",
   "name": "python",
   "nbconvert_exporter": "python",
   "pygments_lexer": "ipython3",
   "version": "3.9.2"
  }
 },
 "nbformat": 4,
 "nbformat_minor": 5
}
