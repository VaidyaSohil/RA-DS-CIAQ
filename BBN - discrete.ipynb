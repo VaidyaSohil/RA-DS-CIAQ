{
 "cells": [
  {
   "cell_type": "code",
   "execution_count": 1,
   "id": "short-secondary",
   "metadata": {},
   "outputs": [
    {
     "name": "stdout",
     "output_type": "stream",
     "text": [
      "Defaulting to user installation because normal site-packages is not writeable\n",
      "Requirement already satisfied: pybbn in c:\\users\\sohil\\appdata\\roaming\\python\\python39\\site-packages (3.2.1)\n",
      "Requirement already satisfied: numpy in c:\\users\\sohil\\appdata\\roaming\\python\\python39\\site-packages (from pybbn) (1.20.1)\n",
      "Requirement already satisfied: scipy in c:\\users\\sohil\\appdata\\roaming\\python\\python39\\site-packages (from pybbn) (1.6.1)\n",
      "Requirement already satisfied: networkx in c:\\users\\sohil\\appdata\\roaming\\python\\python39\\site-packages (from pybbn) (2.5)\n",
      "Requirement already satisfied: pandas in c:\\users\\sohil\\appdata\\roaming\\python\\python39\\site-packages (from pybbn) (1.2.2)\n",
      "Requirement already satisfied: decorator>=4.3.0 in c:\\users\\sohil\\appdata\\roaming\\python\\python39\\site-packages (from networkx->pybbn) (4.4.2)\n",
      "Requirement already satisfied: python-dateutil>=2.7.3 in c:\\users\\sohil\\appdata\\roaming\\python\\python39\\site-packages (from pandas->pybbn) (2.8.1)\n",
      "Requirement already satisfied: pytz>=2017.3 in c:\\users\\sohil\\appdata\\roaming\\python\\python39\\site-packages (from pandas->pybbn) (2021.1)\n",
      "Requirement already satisfied: six>=1.5 in c:\\users\\sohil\\appdata\\roaming\\python\\python39\\site-packages (from python-dateutil>=2.7.3->pandas->pybbn) (1.15.0)\n"
     ]
    },
    {
     "name": "stderr",
     "output_type": "stream",
     "text": [
      "WARNING: You are using pip version 21.0.1; however, version 21.1.1 is available.\n",
      "You should consider upgrading via the 'c:\\program files\\python39\\python.exe -m pip install --upgrade pip' command.\n"
     ]
    }
   ],
   "source": [
    "!pip install pybbn"
   ]
  },
  {
   "cell_type": "code",
   "execution_count": 2,
   "id": "sublime-figure",
   "metadata": {},
   "outputs": [],
   "source": [
    "# Import relevant items\n",
    "import pandas as pd\n",
    "import numpy as np\n",
    "\n",
    "import networkx as nx # for drawing graphs\n",
    "import matplotlib.pyplot as plt # for drawing graphs\n",
    "\n",
    "# for creating Bayesian Belief Networks (BBN)\n",
    "from pybbn.graph.dag import Bbn\n",
    "from pybbn.graph.edge import Edge, EdgeType\n",
    "from pybbn.graph.jointree import EvidenceBuilder\n",
    "from pybbn.graph.node import BbnNode\n",
    "from pybbn.graph.variable import Variable\n",
    "from pybbn.pptc.inferencecontroller import InferenceController\n",
    "\n",
    "%matplotlib inline"
   ]
  },
  {
   "cell_type": "code",
   "execution_count": 3,
   "id": "figured-savings",
   "metadata": {},
   "outputs": [],
   "source": [
    "df = pd.read_csv('X:\\RA_AirQuality\\combined_final_dataset.csv')"
   ]
  },
  {
   "cell_type": "code",
   "execution_count": 4,
   "id": "olive-independence",
   "metadata": {},
   "outputs": [
    {
     "data": {
      "text/html": [
       "<div>\n",
       "<style scoped>\n",
       "    .dataframe tbody tr th:only-of-type {\n",
       "        vertical-align: middle;\n",
       "    }\n",
       "\n",
       "    .dataframe tbody tr th {\n",
       "        vertical-align: top;\n",
       "    }\n",
       "\n",
       "    .dataframe thead th {\n",
       "        text-align: right;\n",
       "    }\n",
       "</style>\n",
       "<table border=\"1\" class=\"dataframe\">\n",
       "  <thead>\n",
       "    <tr style=\"text-align: right;\">\n",
       "      <th></th>\n",
       "      <th>TEMP</th>\n",
       "      <th>CO</th>\n",
       "      <th>NO</th>\n",
       "      <th>NO2</th>\n",
       "      <th>PM10</th>\n",
       "      <th>PM2.5</th>\n",
       "      <th>HUM</th>\n",
       "      <th>DIR</th>\n",
       "      <th>SPD</th>\n",
       "      <th>PRES</th>\n",
       "      <th>Month</th>\n",
       "      <th>Hour</th>\n",
       "      <th>TF_CNT</th>\n",
       "    </tr>\n",
       "  </thead>\n",
       "  <tbody>\n",
       "    <tr>\n",
       "      <th>count</th>\n",
       "      <td>8421.000000</td>\n",
       "      <td>8421.000000</td>\n",
       "      <td>8419.000000</td>\n",
       "      <td>8417.000000</td>\n",
       "      <td>8421.000000</td>\n",
       "      <td>7273.000000</td>\n",
       "      <td>8421.000000</td>\n",
       "      <td>8417.000000</td>\n",
       "      <td>8417.000000</td>\n",
       "      <td>8421.000000</td>\n",
       "      <td>8760.000000</td>\n",
       "      <td>8760.000000</td>\n",
       "      <td>7104.000000</td>\n",
       "    </tr>\n",
       "    <tr>\n",
       "      <th>mean</th>\n",
       "      <td>9.358405</td>\n",
       "      <td>1.099120</td>\n",
       "      <td>19.336649</td>\n",
       "      <td>21.188987</td>\n",
       "      <td>10.081064</td>\n",
       "      <td>5.825896</td>\n",
       "      <td>54.352243</td>\n",
       "      <td>151.047809</td>\n",
       "      <td>1.119260</td>\n",
       "      <td>625.537706</td>\n",
       "      <td>6.526027</td>\n",
       "      <td>11.500000</td>\n",
       "      <td>4903.651605</td>\n",
       "    </tr>\n",
       "    <tr>\n",
       "      <th>std</th>\n",
       "      <td>13.526938</td>\n",
       "      <td>66.300765</td>\n",
       "      <td>34.868420</td>\n",
       "      <td>15.406607</td>\n",
       "      <td>12.486161</td>\n",
       "      <td>6.340252</td>\n",
       "      <td>22.910919</td>\n",
       "      <td>70.020545</td>\n",
       "      <td>0.836195</td>\n",
       "      <td>5.865070</td>\n",
       "      <td>3.448048</td>\n",
       "      <td>6.922582</td>\n",
       "      <td>2334.466740</td>\n",
       "    </tr>\n",
       "    <tr>\n",
       "      <th>min</th>\n",
       "      <td>-20.540000</td>\n",
       "      <td>-4.480000</td>\n",
       "      <td>-2.050000</td>\n",
       "      <td>1.300000</td>\n",
       "      <td>0.020000</td>\n",
       "      <td>0.010000</td>\n",
       "      <td>6.210000</td>\n",
       "      <td>0.900000</td>\n",
       "      <td>0.000000</td>\n",
       "      <td>562.450000</td>\n",
       "      <td>1.000000</td>\n",
       "      <td>0.000000</td>\n",
       "      <td>0.000000</td>\n",
       "    </tr>\n",
       "    <tr>\n",
       "      <th>25%</th>\n",
       "      <td>-2.180000</td>\n",
       "      <td>0.190000</td>\n",
       "      <td>1.310000</td>\n",
       "      <td>8.810000</td>\n",
       "      <td>2.630000</td>\n",
       "      <td>2.240000</td>\n",
       "      <td>35.120000</td>\n",
       "      <td>92.260000</td>\n",
       "      <td>0.550000</td>\n",
       "      <td>621.540000</td>\n",
       "      <td>4.000000</td>\n",
       "      <td>5.750000</td>\n",
       "      <td>2672.000000</td>\n",
       "    </tr>\n",
       "    <tr>\n",
       "      <th>50%</th>\n",
       "      <td>9.660000</td>\n",
       "      <td>0.300000</td>\n",
       "      <td>5.000000</td>\n",
       "      <td>17.600000</td>\n",
       "      <td>6.590000</td>\n",
       "      <td>3.850000</td>\n",
       "      <td>55.760000</td>\n",
       "      <td>148.440000</td>\n",
       "      <td>0.910000</td>\n",
       "      <td>625.000000</td>\n",
       "      <td>7.000000</td>\n",
       "      <td>11.500000</td>\n",
       "      <td>5468.000000</td>\n",
       "    </tr>\n",
       "    <tr>\n",
       "      <th>75%</th>\n",
       "      <td>20.630000</td>\n",
       "      <td>0.450000</td>\n",
       "      <td>20.625000</td>\n",
       "      <td>31.320000</td>\n",
       "      <td>12.850000</td>\n",
       "      <td>6.700000</td>\n",
       "      <td>70.200000</td>\n",
       "      <td>188.930000</td>\n",
       "      <td>1.440000</td>\n",
       "      <td>630.400000</td>\n",
       "      <td>10.000000</td>\n",
       "      <td>17.250000</td>\n",
       "      <td>6764.000000</td>\n",
       "    </tr>\n",
       "    <tr>\n",
       "      <th>max</th>\n",
       "      <td>39.180000</td>\n",
       "      <td>6084.470000</td>\n",
       "      <td>413.500000</td>\n",
       "      <td>203.700000</td>\n",
       "      <td>242.600000</td>\n",
       "      <td>69.400000</td>\n",
       "      <td>101.700000</td>\n",
       "      <td>359.000000</td>\n",
       "      <td>8.400000</td>\n",
       "      <td>635.800000</td>\n",
       "      <td>12.000000</td>\n",
       "      <td>23.000000</td>\n",
       "      <td>12407.000000</td>\n",
       "    </tr>\n",
       "  </tbody>\n",
       "</table>\n",
       "</div>"
      ],
      "text/plain": [
       "              TEMP           CO           NO          NO2         PM10  \\\n",
       "count  8421.000000  8421.000000  8419.000000  8417.000000  8421.000000   \n",
       "mean      9.358405     1.099120    19.336649    21.188987    10.081064   \n",
       "std      13.526938    66.300765    34.868420    15.406607    12.486161   \n",
       "min     -20.540000    -4.480000    -2.050000     1.300000     0.020000   \n",
       "25%      -2.180000     0.190000     1.310000     8.810000     2.630000   \n",
       "50%       9.660000     0.300000     5.000000    17.600000     6.590000   \n",
       "75%      20.630000     0.450000    20.625000    31.320000    12.850000   \n",
       "max      39.180000  6084.470000   413.500000   203.700000   242.600000   \n",
       "\n",
       "             PM2.5          HUM          DIR          SPD         PRES  \\\n",
       "count  7273.000000  8421.000000  8417.000000  8417.000000  8421.000000   \n",
       "mean      5.825896    54.352243   151.047809     1.119260   625.537706   \n",
       "std       6.340252    22.910919    70.020545     0.836195     5.865070   \n",
       "min       0.010000     6.210000     0.900000     0.000000   562.450000   \n",
       "25%       2.240000    35.120000    92.260000     0.550000   621.540000   \n",
       "50%       3.850000    55.760000   148.440000     0.910000   625.000000   \n",
       "75%       6.700000    70.200000   188.930000     1.440000   630.400000   \n",
       "max      69.400000   101.700000   359.000000     8.400000   635.800000   \n",
       "\n",
       "             Month         Hour        TF_CNT  \n",
       "count  8760.000000  8760.000000   7104.000000  \n",
       "mean      6.526027    11.500000   4903.651605  \n",
       "std       3.448048     6.922582   2334.466740  \n",
       "min       1.000000     0.000000      0.000000  \n",
       "25%       4.000000     5.750000   2672.000000  \n",
       "50%       7.000000    11.500000   5468.000000  \n",
       "75%      10.000000    17.250000   6764.000000  \n",
       "max      12.000000    23.000000  12407.000000  "
      ]
     },
     "execution_count": 4,
     "metadata": {},
     "output_type": "execute_result"
    }
   ],
   "source": [
    "df.describe()"
   ]
  },
  {
   "cell_type": "code",
   "execution_count": 5,
   "id": "soviet-argument",
   "metadata": {},
   "outputs": [],
   "source": [
    "df=df[pd.isnull(df['PM2.5'])==False]"
   ]
  },
  {
   "cell_type": "code",
   "execution_count": 6,
   "id": "atlantic-junior",
   "metadata": {},
   "outputs": [],
   "source": [
    "df=df.fillna(df.mean())"
   ]
  },
  {
   "cell_type": "code",
   "execution_count": 7,
   "id": "rubber-mainstream",
   "metadata": {},
   "outputs": [
    {
     "data": {
      "text/plain": [
       "False"
      ]
     },
     "execution_count": 7,
     "metadata": {},
     "output_type": "execute_result"
    }
   ],
   "source": [
    "df.isnull().values.any()"
   ]
  },
  {
   "cell_type": "code",
   "execution_count": 8,
   "id": "residential-leadership",
   "metadata": {},
   "outputs": [],
   "source": [
    "# df = df.drop(columns=['PM10', 'hr_sin', 'hr_cos', 'month_sin','month_cos','TF_CNT_1', 'TF_CNT_2', 'TF_CNT_3', 'TF_CNT_4'])\n",
    "# df = df.drop(columns=['Hour','Month'])\n",
    "# df = df.drop(df.columns[0], axis=1)"
   ]
  },
  {
   "cell_type": "code",
   "execution_count": 9,
   "id": "second-accused",
   "metadata": {},
   "outputs": [],
   "source": [
    "df['PM2.5>10']=df['PM2.5'].apply(lambda x: 'Yes' if x>10 else 'No')"
   ]
  },
  {
   "cell_type": "code",
   "execution_count": 10,
   "id": "virtual-burton",
   "metadata": {},
   "outputs": [],
   "source": [
    "df['TF_CNT>4000']=df['TF_CNT'].apply(lambda x: 'Yes' if x>4000 else 'No')"
   ]
  },
  {
   "cell_type": "code",
   "execution_count": 11,
   "id": "strange-guitar",
   "metadata": {},
   "outputs": [],
   "source": [
    "df['SPD>1.5']=df['SPD'].apply(lambda x: 'Yes' if x>1.5 else 'No')"
   ]
  },
  {
   "cell_type": "code",
   "execution_count": 12,
   "id": "outdoor-italian",
   "metadata": {},
   "outputs": [],
   "source": [
    "df['TEMP>15']=df['TEMP'].apply(lambda x: 'Yes' if x>15 else 'No')"
   ]
  },
  {
   "cell_type": "code",
   "execution_count": 13,
   "id": "intelligent-modeling",
   "metadata": {},
   "outputs": [
    {
     "data": {
      "text/html": [
       "<div>\n",
       "<style scoped>\n",
       "    .dataframe tbody tr th:only-of-type {\n",
       "        vertical-align: middle;\n",
       "    }\n",
       "\n",
       "    .dataframe tbody tr th {\n",
       "        vertical-align: top;\n",
       "    }\n",
       "\n",
       "    .dataframe thead th {\n",
       "        text-align: right;\n",
       "    }\n",
       "</style>\n",
       "<table border=\"1\" class=\"dataframe\">\n",
       "  <thead>\n",
       "    <tr style=\"text-align: right;\">\n",
       "      <th></th>\n",
       "      <th>DateTime</th>\n",
       "      <th>TEMP</th>\n",
       "      <th>CO</th>\n",
       "      <th>NO</th>\n",
       "      <th>NO2</th>\n",
       "      <th>PM10</th>\n",
       "      <th>PM2.5</th>\n",
       "      <th>HUM</th>\n",
       "      <th>DIR</th>\n",
       "      <th>SPD</th>\n",
       "      <th>PRES</th>\n",
       "      <th>Month</th>\n",
       "      <th>Hour</th>\n",
       "      <th>TF_CNT</th>\n",
       "      <th>PM2.5&gt;10</th>\n",
       "      <th>TF_CNT&gt;4000</th>\n",
       "      <th>SPD&gt;1.5</th>\n",
       "      <th>TEMP&gt;15</th>\n",
       "    </tr>\n",
       "  </thead>\n",
       "  <tbody>\n",
       "    <tr>\n",
       "      <th>0</th>\n",
       "      <td>2019-01-01 00:00:00</td>\n",
       "      <td>-13.26</td>\n",
       "      <td>0.28</td>\n",
       "      <td>1.66</td>\n",
       "      <td>7.00</td>\n",
       "      <td>8.62</td>\n",
       "      <td>6.30</td>\n",
       "      <td>80.04</td>\n",
       "      <td>189.90</td>\n",
       "      <td>2.65</td>\n",
       "      <td>625.00</td>\n",
       "      <td>1</td>\n",
       "      <td>0</td>\n",
       "      <td>2042.0</td>\n",
       "      <td>No</td>\n",
       "      <td>No</td>\n",
       "      <td>Yes</td>\n",
       "      <td>No</td>\n",
       "    </tr>\n",
       "    <tr>\n",
       "      <th>1</th>\n",
       "      <td>2019-01-01 01:00:00</td>\n",
       "      <td>-14.22</td>\n",
       "      <td>0.27</td>\n",
       "      <td>0.66</td>\n",
       "      <td>6.00</td>\n",
       "      <td>8.71</td>\n",
       "      <td>4.41</td>\n",
       "      <td>75.21</td>\n",
       "      <td>282.43</td>\n",
       "      <td>2.70</td>\n",
       "      <td>625.24</td>\n",
       "      <td>1</td>\n",
       "      <td>1</td>\n",
       "      <td>1949.0</td>\n",
       "      <td>No</td>\n",
       "      <td>No</td>\n",
       "      <td>Yes</td>\n",
       "      <td>No</td>\n",
       "    </tr>\n",
       "    <tr>\n",
       "      <th>2</th>\n",
       "      <td>2019-01-01 02:00:00</td>\n",
       "      <td>-14.30</td>\n",
       "      <td>0.29</td>\n",
       "      <td>0.63</td>\n",
       "      <td>7.31</td>\n",
       "      <td>6.82</td>\n",
       "      <td>5.24</td>\n",
       "      <td>79.09</td>\n",
       "      <td>310.47</td>\n",
       "      <td>2.26</td>\n",
       "      <td>630.04</td>\n",
       "      <td>1</td>\n",
       "      <td>2</td>\n",
       "      <td>1527.0</td>\n",
       "      <td>No</td>\n",
       "      <td>No</td>\n",
       "      <td>Yes</td>\n",
       "      <td>No</td>\n",
       "    </tr>\n",
       "    <tr>\n",
       "      <th>3</th>\n",
       "      <td>2019-01-01 03:00:00</td>\n",
       "      <td>-14.44</td>\n",
       "      <td>0.29</td>\n",
       "      <td>0.56</td>\n",
       "      <td>6.42</td>\n",
       "      <td>9.10</td>\n",
       "      <td>6.56</td>\n",
       "      <td>79.54</td>\n",
       "      <td>295.01</td>\n",
       "      <td>2.18</td>\n",
       "      <td>630.40</td>\n",
       "      <td>1</td>\n",
       "      <td>3</td>\n",
       "      <td>1403.0</td>\n",
       "      <td>No</td>\n",
       "      <td>No</td>\n",
       "      <td>Yes</td>\n",
       "      <td>No</td>\n",
       "    </tr>\n",
       "    <tr>\n",
       "      <th>4</th>\n",
       "      <td>2019-01-01 04:00:00</td>\n",
       "      <td>-14.82</td>\n",
       "      <td>0.29</td>\n",
       "      <td>0.72</td>\n",
       "      <td>8.13</td>\n",
       "      <td>5.94</td>\n",
       "      <td>4.70</td>\n",
       "      <td>79.86</td>\n",
       "      <td>298.92</td>\n",
       "      <td>1.55</td>\n",
       "      <td>630.40</td>\n",
       "      <td>1</td>\n",
       "      <td>4</td>\n",
       "      <td>1793.0</td>\n",
       "      <td>No</td>\n",
       "      <td>No</td>\n",
       "      <td>Yes</td>\n",
       "      <td>No</td>\n",
       "    </tr>\n",
       "  </tbody>\n",
       "</table>\n",
       "</div>"
      ],
      "text/plain": [
       "              DateTime   TEMP    CO    NO   NO2  PM10  PM2.5    HUM     DIR  \\\n",
       "0  2019-01-01 00:00:00 -13.26  0.28  1.66  7.00  8.62   6.30  80.04  189.90   \n",
       "1  2019-01-01 01:00:00 -14.22  0.27  0.66  6.00  8.71   4.41  75.21  282.43   \n",
       "2  2019-01-01 02:00:00 -14.30  0.29  0.63  7.31  6.82   5.24  79.09  310.47   \n",
       "3  2019-01-01 03:00:00 -14.44  0.29  0.56  6.42  9.10   6.56  79.54  295.01   \n",
       "4  2019-01-01 04:00:00 -14.82  0.29  0.72  8.13  5.94   4.70  79.86  298.92   \n",
       "\n",
       "    SPD    PRES  Month  Hour  TF_CNT PM2.5>10 TF_CNT>4000 SPD>1.5 TEMP>15  \n",
       "0  2.65  625.00      1     0  2042.0       No          No     Yes      No  \n",
       "1  2.70  625.24      1     1  1949.0       No          No     Yes      No  \n",
       "2  2.26  630.04      1     2  1527.0       No          No     Yes      No  \n",
       "3  2.18  630.40      1     3  1403.0       No          No     Yes      No  \n",
       "4  1.55  630.40      1     4  1793.0       No          No     Yes      No  "
      ]
     },
     "execution_count": 13,
     "metadata": {},
     "output_type": "execute_result"
    }
   ],
   "source": [
    "df.head()"
   ]
  },
  {
   "cell_type": "code",
   "execution_count": 14,
   "id": "adjusted-equation",
   "metadata": {},
   "outputs": [
    {
     "data": {
      "text/plain": [
       "No     6250\n",
       "Yes    1023\n",
       "Name: PM2.5>10, dtype: int64"
      ]
     },
     "execution_count": 14,
     "metadata": {},
     "output_type": "execute_result"
    }
   ],
   "source": [
    "df['PM2.5>10'].value_counts().sort_index()"
   ]
  },
  {
   "cell_type": "code",
   "execution_count": 15,
   "id": "potential-grass",
   "metadata": {},
   "outputs": [
    {
     "data": {
      "text/plain": [
       "No     1849\n",
       "Yes    5424\n",
       "Name: TF_CNT>4000, dtype: int64"
      ]
     },
     "execution_count": 15,
     "metadata": {},
     "output_type": "execute_result"
    }
   ],
   "source": [
    "df['TF_CNT>4000'].value_counts().sort_index()"
   ]
  },
  {
   "cell_type": "code",
   "execution_count": 16,
   "id": "sweet-sleeping",
   "metadata": {},
   "outputs": [
    {
     "data": {
      "text/plain": [
       "No     5474\n",
       "Yes    1799\n",
       "Name: SPD>1.5, dtype: int64"
      ]
     },
     "execution_count": 16,
     "metadata": {},
     "output_type": "execute_result"
    }
   ],
   "source": [
    "df['SPD>1.5'].value_counts().sort_index()"
   ]
  },
  {
   "cell_type": "code",
   "execution_count": 17,
   "id": "minimal-stamp",
   "metadata": {},
   "outputs": [
    {
     "data": {
      "text/plain": [
       "No     4032\n",
       "Yes    3241\n",
       "Name: TEMP>15, dtype: int64"
      ]
     },
     "execution_count": 17,
     "metadata": {},
     "output_type": "execute_result"
    }
   ],
   "source": [
    "df['TEMP>15'].value_counts().sort_index()"
   ]
  },
  {
   "cell_type": "code",
   "execution_count": 18,
   "id": "pleased-repeat",
   "metadata": {},
   "outputs": [],
   "source": [
    "# This function helps to calculate probabily distribution, which goes into BBN (note, can handle upto 2 parents)\n",
    "def probs(data, child, parent1=None, parent2=None):\n",
    "    # Initialize empty list\n",
    "    prob=[]\n",
    "    if parent1==None:\n",
    "        # Calculate probabilities\n",
    "        prob=data[child].value_counts(normalize=True, sort=False).sort_index().tolist()\n",
    "    elif parent1!=None:\n",
    "            # Check if child node has 1 parent or 2 parents\n",
    "            if parent2==None:\n",
    "                # Work out the bands present in the parent variable\n",
    "                bands=df[parent1].value_counts(sort=False).sort_index().index.tolist()\n",
    "                # Caclucate probabilities\n",
    "                for val in bands:\n",
    "                    temp=data[data[parent1]==val][child].value_counts(normalize=True).sort_index().tolist()\n",
    "                    prob=prob+temp\n",
    "            else:    \n",
    "                # Work out the bands present in the parent variable\n",
    "                bands1=df[parent1].value_counts(sort=False).sort_index().index.tolist()\n",
    "                bands2=df[parent2].value_counts(sort=False).sort_index().index.tolist()\n",
    "                # Caclucate probabilities\n",
    "                for val1 in bands1:\n",
    "                    for val2 in bands2:\n",
    "                        temp=data[(data[parent1]==val1) & (data[parent2]==val2)][child].value_counts(normalize=True).sort_index().tolist()\n",
    "                        prob=prob+temp\n",
    "    else: print(\"Error in Probability Frequency Calculations\")\n",
    "    return prob"
   ]
  },
  {
   "cell_type": "code",
   "execution_count": 34,
   "id": "scenic-exemption",
   "metadata": {},
   "outputs": [],
   "source": [
    "# Create nodes by using our earlier function to automatically calculate probabilities\n",
    "tfcnt_gt_4000 = BbnNode(Variable(0, 'tfcnt_gt_4000', ['Yes', 'No']), probs(df, child='TF_CNT>4000'))\n",
    "# spd_gt_1dot5 = BbnNode(Variable(1, 'spd_gt_1dot5', ['Yes', 'No']), probs(df, child='SPD>1.5'))\n",
    "temp_gt_15 = BbnNode(Variable(2, 'temp_gt_15', ['Yes', 'No']), probs(df, child='TEMP>15'))\n",
    "pm25_gt_10 = BbnNode(Variable(3, 'pm25_gt_10', ['Yes', 'No']), probs(df, child='PM2.5>10', parent1='TF_CNT>4000', parent2='TEMP>15'))"
   ]
  },
  {
   "cell_type": "code",
   "execution_count": 35,
   "id": "ahead-flash",
   "metadata": {},
   "outputs": [],
   "source": [
    "# Create Network\n",
    "bbn = Bbn() \\\n",
    "    .add_node(tfcnt_gt_4000) \\\n",
    "    .add_node(temp_gt_15) \\\n",
    "    .add_node(pm25_gt_10) \\\n",
    "    .add_edge(Edge(tfcnt_gt_4000, pm25_gt_10, EdgeType.DIRECTED)) \\\n",
    "    .add_edge(Edge(temp_gt_15, pm25_gt_10, EdgeType.DIRECTED)) \\\n",
    "\n",
    "# Convert the BBN to a join tree\n",
    "join_tree = InferenceController.apply(bbn)"
   ]
  },
  {
   "cell_type": "code",
   "execution_count": 36,
   "id": "warming-armor",
   "metadata": {},
   "outputs": [
    {
     "data": {
      "image/png": "[encoded data removed]",
      "text/plain": [
       "<Figure size 432x288 with 1 Axes>"
      ]
     },
     "metadata": {},
     "output_type": "display_data"
    }
   ],
   "source": [
    "# Set node positions\n",
    "pos = {0: (-1, 2), 1: (-1, 0.5), 2: (1, 0.5), 3: (0, -1)}\n",
    "\n",
    "# Set options for graph looks\n",
    "options = {\n",
    "    \"font_size\": 10,\n",
    "    \"node_size\": 5000,\n",
    "    \"node_color\": \"white\",\n",
    "    \"edgecolors\": \"black\",\n",
    "    \"edge_color\": \"red\",\n",
    "    \"linewidths\": 5,\n",
    "    \"width\": 5,}\n",
    "    \n",
    "# Generate graph\n",
    "n, d = bbn.to_nx_graph()\n",
    "nx.draw(n, with_labels=True, labels=d, pos=pos, **options)\n",
    "\n",
    "# Update margins and print the graph\n",
    "ax = plt.gca()\n",
    "ax.margins(0.10)\n",
    "plt.axis(\"off\")\n",
    "plt.show()"
   ]
  },
  {
   "cell_type": "code",
   "execution_count": 37,
   "id": "medium-third",
   "metadata": {},
   "outputs": [
    {
     "name": "stdout",
     "output_type": "stream",
     "text": [
      "Node: 2|temp_gt_15|Yes,No\n",
      "Values:\n",
      "2=Yes|0.55438\n",
      "2=No|0.44562\n",
      "----------------\n",
      "Node: 3|pm25_gt_10|Yes,No\n",
      "Values:\n",
      "3=Yes|0.86400\n",
      "3=No|0.13600\n",
      "----------------\n",
      "Node: 0|tfcnt_gt_4000|Yes,No\n",
      "Values:\n",
      "0=Yes|0.25423\n",
      "0=No|0.74577\n",
      "----------------\n"
     ]
    }
   ],
   "source": [
    "#function for printing marginal probabilities\n",
    "def print_probs():\n",
    "    for node in join_tree.get_bbn_nodes():\n",
    "        potential = join_tree.get_bbn_potential(node)\n",
    "        print(\"Node:\", node)\n",
    "        print(\"Values:\")\n",
    "        print(potential)\n",
    "        print('----------------')\n",
    "        \n",
    "# Use the above function to print marginal probabilities\n",
    "print_probs()"
   ]
  },
  {
   "cell_type": "code",
   "execution_count": 39,
   "id": "interior-exhaust",
   "metadata": {},
   "outputs": [
    {
     "name": "stdout",
     "output_type": "stream",
     "text": [
      "Node: 2|temp_gt_15|Yes,No\n",
      "Values:\n",
      "2=Yes|0.55438\n",
      "2=No|0.44562\n",
      "----------------\n",
      "Node: 3|pm25_gt_10|Yes,No\n",
      "Values:\n",
      "3=Yes|0.92905\n",
      "3=No|0.07095\n",
      "----------------\n",
      "Node: 0|tfcnt_gt_4000|Yes,No\n",
      "Values:\n",
      "0=Yes|1.00000\n",
      "0=No|0.00000\n",
      "----------------\n"
     ]
    }
   ],
   "source": [
    "# To add evidence to calculate probability distribution\n",
    "def evidence(ev, nod, cat, val):\n",
    "    ev = EvidenceBuilder() \\\n",
    "    .with_node(join_tree.get_bbn_node_by_name(nod)) \\\n",
    "    .with_evidence(cat, val) \\\n",
    "    .build()\n",
    "    join_tree.set_observation(ev)\n",
    "\n",
    "evidence(ev=None, nod='tfcnt_gt_4000', cat='Yes', val=1.0)\n",
    "\n",
    "# Print marginal probabilities\n",
    "print_probs()"
   ]
  },
  {
   "cell_type": "code",
   "execution_count": 40,
   "id": "invisible-aircraft",
   "metadata": {},
   "outputs": [
    {
     "name": "stdout",
     "output_type": "stream",
     "text": [
      "Node: 2|temp_gt_15|Yes,No\n",
      "Values:\n",
      "2=Yes|0.00000\n",
      "2=No|1.00000\n",
      "----------------\n",
      "Node: 3|pm25_gt_10|Yes,No\n",
      "Values:\n",
      "3=Yes|0.95829\n",
      "3=No|0.04171\n",
      "----------------\n",
      "Node: 0|tfcnt_gt_4000|Yes,No\n",
      "Values:\n",
      "0=Yes|1.00000\n",
      "0=No|0.00000\n",
      "----------------\n"
     ]
    }
   ],
   "source": [
    "evidence(ev=None, nod='temp_gt_15', cat='No', val=1.0)\n",
    "print_probs()"
   ]
  },
  {
   "cell_type": "code",
   "execution_count": null,
   "id": "rolled-resolution",
   "metadata": {},
   "outputs": [],
   "source": []
  }
 ],
 "metadata": {
  "celltoolbar": "Raw Cell Format",
  "kernelspec": {
   "display_name": "Python 3",
   "language": "python",
   "name": "python3"
  },
  "language_info": {
   "codemirror_mode": {
    "name": "ipython",
    "version": 3
   },
   "file_extension": ".py",
   "mimetype": "text/x-python",
   "name": "python",
   "nbconvert_exporter": "python",
   "pygments_lexer": "ipython3",
   "version": "3.9.2"
  }
 },
 "nbformat": 4,
 "nbformat_minor": 5
}
